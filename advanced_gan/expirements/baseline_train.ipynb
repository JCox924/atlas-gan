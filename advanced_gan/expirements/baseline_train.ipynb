{
 "cells": [
  {
   "cell_type": "code",
   "id": "initial_id",
   "metadata": {
    "collapsed": true,
    "ExecuteTime": {
     "end_time": "2025-04-24T21:53:51.528324Z",
     "start_time": "2025-04-24T21:53:47.241066Z"
    }
   },
   "source": [
    "import os\n",
    "import sys\n",
    "import numpy as np\n",
    "import tensorflow as tf\n",
    "import matplotlib.pyplot as plt\n",
    "import wandb"
   ],
   "outputs": [],
   "execution_count": 2
  },
  {
   "metadata": {
    "ExecuteTime": {
     "end_time": "2025-04-24T21:53:51.559351Z",
     "start_time": "2025-04-24T21:53:51.544840Z"
    }
   },
   "cell_type": "code",
   "source": [
    "project_root = os.path.abspath(os.path.join(os.getcwd(), \"..\"))\n",
    "if project_root not in sys.path:\n",
    "    sys.path.append(project_root)\n",
    "print(sys.path)"
   ],
   "id": "b0c1bff41c76d788",
   "outputs": [
    {
     "name": "stdout",
     "output_type": "stream",
     "text": [
      "['C:\\\\Users\\\\Joshua\\\\PycharmProjects\\\\Machine_Learning_master', 'C:\\\\Users\\\\Joshua\\\\PycharmProjects\\\\Machine_Learning_master\\\\atlas-machine_learning\\\\personal_projects\\\\CryoET_obj_id', 'C:\\\\Users\\\\Joshua\\\\PycharmProjects\\\\Machine_Learning_master\\\\atlas-machine_learning\\\\supervised_learning\\\\object_detection', 'D:\\\\Apps\\\\PyCharm 2025.1\\\\plugins\\\\python-ce\\\\helpers\\\\pydev', 'D:\\\\Apps\\\\PyCharm 2025.1\\\\plugins\\\\python-ce\\\\helpers\\\\jupyter_debug', 'C:\\\\Users\\\\Joshua\\\\anaconda3\\\\envs\\\\py310\\\\python310.zip', 'C:\\\\Users\\\\Joshua\\\\anaconda3\\\\envs\\\\py310\\\\DLLs', 'C:\\\\Users\\\\Joshua\\\\anaconda3\\\\envs\\\\py310\\\\lib', 'C:\\\\Users\\\\Joshua\\\\anaconda3\\\\envs\\\\py310', '', 'C:\\\\Users\\\\Joshua\\\\anaconda3\\\\envs\\\\py310\\\\lib\\\\site-packages', 'C:\\\\Users\\\\Joshua\\\\anaconda3\\\\envs\\\\py310\\\\lib\\\\site-packages\\\\win32', 'C:\\\\Users\\\\Joshua\\\\anaconda3\\\\envs\\\\py310\\\\lib\\\\site-packages\\\\win32\\\\lib', 'C:\\\\Users\\\\Joshua\\\\anaconda3\\\\envs\\\\py310\\\\lib\\\\site-packages\\\\Pythonwin', 'C:\\\\Users\\\\Joshua\\\\anaconda3\\\\envs\\\\py310\\\\lib\\\\site-packages\\\\setuptools\\\\_vendor', 'C:\\\\Users\\\\Joshua\\\\PycharmProjects\\\\Machine_Learning_master\\\\atlas-gan\\\\advanced_gan']\n"
     ]
    }
   ],
   "execution_count": 3
  },
  {
   "metadata": {
    "ExecuteTime": {
     "end_time": "2025-04-24T21:53:51.698942Z",
     "start_time": "2025-04-24T21:53:51.621867Z"
    }
   },
   "cell_type": "code",
   "source": "from models.baseline_model import build_generator, build_discriminator",
   "id": "4f4fae406e966d57",
   "outputs": [
    {
     "ename": "ModuleNotFoundError",
     "evalue": "No module named 'models.baseline_model'",
     "output_type": "error",
     "traceback": [
      "\u001B[1;31m---------------------------------------------------------------------------\u001B[0m",
      "\u001B[1;31mModuleNotFoundError\u001B[0m                       Traceback (most recent call last)",
      "Cell \u001B[1;32mIn[4], line 1\u001B[0m\n\u001B[1;32m----> 1\u001B[0m \u001B[38;5;28;01mfrom\u001B[39;00m \u001B[38;5;21;01mmodels\u001B[39;00m\u001B[38;5;21;01m.\u001B[39;00m\u001B[38;5;21;01mbaseline_model\u001B[39;00m \u001B[38;5;28;01mimport\u001B[39;00m build_generator, build_discriminator\n",
      "\u001B[1;31mModuleNotFoundError\u001B[0m: No module named 'models.baseline_model'"
     ]
    }
   ],
   "execution_count": 4
  },
  {
   "metadata": {
    "ExecuteTime": {
     "end_time": "2025-04-24T21:53:51.701876100Z",
     "start_time": "2025-03-11T02:40:36.972602Z"
    }
   },
   "cell_type": "code",
   "source": [
    "config_defaults = {\n",
    "    \"epochs\": 20,\n",
    "    \"batch_size\": 64,\n",
    "    \"latent_dim\": 100,\n",
    "    \"learning_rate\": 0.0002,\n",
    "    \"beta_1\": 0.5\n",
    "}\n",
    "wandb.init(project=\"advanced_gan_celeba\", config=config_defaults)\n",
    "config = wandb.config"
   ],
   "id": "8c301780ccb40e70",
   "outputs": [
    {
     "name": "stderr",
     "output_type": "stream",
     "text": [
      "wandb: Using wandb-core as the SDK backend.  Please refer to https://wandb.me/wandb-core for more information.\n",
      "wandb: Currently logged in as: joshuacox924007 (joshuacox924007-atlas-school) to https://api.wandb.ai. Use `wandb login --relogin` to force relogin\n"
     ]
    },
    {
     "data": {
      "text/plain": [
       "<IPython.core.display.HTML object>"
      ],
      "text/html": [
       "Tracking run with wandb version 0.19.8"
      ]
     },
     "metadata": {},
     "output_type": "display_data"
    },
    {
     "data": {
      "text/plain": [
       "<IPython.core.display.HTML object>"
      ],
      "text/html": [
       "Run data is saved locally in <code>C:\\Users\\Joshua\\PycharmProjects\\GANs\\atlas-gan\\advanced_gan\\expirements\\wandb\\run-20250310_214037-p885bihu</code>"
      ]
     },
     "metadata": {},
     "output_type": "display_data"
    },
    {
     "data": {
      "text/plain": [
       "<IPython.core.display.HTML object>"
      ],
      "text/html": [
       "Syncing run <strong><a href='https://wandb.ai/joshuacox924007-atlas-school/advanced_gan_celeba/runs/p885bihu' target=\"_blank\">northern-morning-1</a></strong> to <a href='https://wandb.ai/joshuacox924007-atlas-school/advanced_gan_celeba' target=\"_blank\">Weights & Biases</a> (<a href='https://wandb.me/developer-guide' target=\"_blank\">docs</a>)<br>"
      ]
     },
     "metadata": {},
     "output_type": "display_data"
    },
    {
     "data": {
      "text/plain": [
       "<IPython.core.display.HTML object>"
      ],
      "text/html": [
       " View project at <a href='https://wandb.ai/joshuacox924007-atlas-school/advanced_gan_celeba' target=\"_blank\">https://wandb.ai/joshuacox924007-atlas-school/advanced_gan_celeba</a>"
      ]
     },
     "metadata": {},
     "output_type": "display_data"
    },
    {
     "data": {
      "text/plain": [
       "<IPython.core.display.HTML object>"
      ],
      "text/html": [
       " View run at <a href='https://wandb.ai/joshuacox924007-atlas-school/advanced_gan_celeba/runs/p885bihu' target=\"_blank\">https://wandb.ai/joshuacox924007-atlas-school/advanced_gan_celeba/runs/p885bihu</a>"
      ]
     },
     "metadata": {},
     "output_type": "display_data"
    }
   ],
   "execution_count": 4
  },
  {
   "metadata": {
    "ExecuteTime": {
     "end_time": "2025-04-24T21:53:51.703876500Z",
     "start_time": "2025-03-11T02:40:38.864271Z"
    }
   },
   "cell_type": "code",
   "source": [
    "data_path = os.path.abspath(os.path.join('..', 'data', 'celeba_preprocessed.npz'))\n",
    "data = np.load(data_path)\n",
    "images = data['images']\n",
    "print(\"Loaded images shape:\", images.shape)"
   ],
   "id": "4c437e2a8ae13293",
   "outputs": [
    {
     "name": "stdout",
     "output_type": "stream",
     "text": [
      "Loaded images shape: (202599, 64, 64, 3)\n"
     ]
    }
   ],
   "execution_count": 5
  },
  {
   "metadata": {
    "ExecuteTime": {
     "end_time": "2025-04-24T21:53:51.703876500Z",
     "start_time": "2025-03-11T02:40:56.792464Z"
    }
   },
   "cell_type": "code",
   "source": [
    "latent_dim = config.latent_dim\n",
    "img_shape = (64, 64, 3)\n",
    "epochs = config.epochs\n",
    "batch_size = config.batch_size\n",
    "num_batches = images.shape[0] // batch_size"
   ],
   "id": "96f992a425588745",
   "outputs": [],
   "execution_count": 6
  },
  {
   "metadata": {
    "ExecuteTime": {
     "end_time": "2025-04-24T21:53:51.704876600Z",
     "start_time": "2025-03-11T02:40:56.806615Z"
    }
   },
   "cell_type": "code",
   "source": [
    "generator = build_generator(latent_dim, k_size=5, filter_size=64, s1=2, s2=2, s3=2)\n",
    "discriminator = build_discriminator(img_shape, k_size=5, alpha=0.2, s=2)\n",
    "\n",
    "optimizer = tf.keras.optimizers.Adam(learning_rate=config.learning_rate, beta_1=config.beta_1)\n",
    "discriminator.compile(loss='binary_crossentropy', optimizer=optimizer, metrics=['accuracy'])\n",
    "\n",
    "discriminator.trainable = False\n",
    "noise_input = tf.keras.Input(shape=(latent_dim,))\n",
    "generated_image = generator(noise_input)\n",
    "validity = discriminator(generated_image)\n",
    "combined = tf.keras.Model(noise_input, validity)\n",
    "combined.compile(loss='binary_crossentropy', optimizer=optimizer)"
   ],
   "id": "8c4e955609c30faa",
   "outputs": [],
   "execution_count": 7
  },
  {
   "metadata": {
    "ExecuteTime": {
     "end_time": "2025-04-24T21:53:51.704876600Z",
     "start_time": "2025-03-11T02:40:58.888468Z"
    }
   },
   "cell_type": "code",
   "source": [
    "def get_generated_images_figure(generator, epoch, examples=16, dim=(4,4), figsize=(8,8)):\n",
    "    noise = np.random.normal(0, 1, (examples, latent_dim))\n",
    "    generated_imgs = generator.predict(noise)\n",
    "    # Rescale images from [-1,1] to [0,1]\n",
    "    generated_imgs = (generated_imgs + 1) / 2.0\n",
    "\n",
    "    fig, axes = plt.subplots(dim[0], dim[1], figsize=figsize, sharex=True, sharey=True)\n",
    "    cnt = 0\n",
    "    for i in range(dim[0]):\n",
    "        for j in range(dim[1]):\n",
    "            axes[i, j].imshow(generated_imgs[cnt])\n",
    "            axes[i, j].axis('off')\n",
    "            cnt += 1\n",
    "    fig.suptitle(f\"Generated Images at Epoch {epoch}\")\n",
    "    plt.tight_layout()\n",
    "    return fig"
   ],
   "id": "49ab2478faa23da3",
   "outputs": [],
   "execution_count": 8
  },
  {
   "metadata": {
    "ExecuteTime": {
     "end_time": "2025-04-24T21:53:51.705874700Z",
     "start_time": "2025-04-24T21:53:42.922296Z"
    }
   },
   "cell_type": "code",
   "source": [
    "for epoch in range(1, epochs + 1):\n",
    "    d_loss_epoch = 0.0\n",
    "    g_loss_epoch = 0.0\n",
    "\n",
    "    for batch in range(num_batches):\n",
    "        # ---------------------\n",
    "        #  Train Discriminator\n",
    "        # ---------------------\n",
    "        idx = np.random.randint(0, images.shape[0], batch_size)\n",
    "        real_imgs = images[idx]\n",
    "\n",
    "        noise = np.random.normal(0, 1, (batch_size, latent_dim))\n",
    "        fake_imgs = generator.predict(noise)\n",
    "\n",
    "        valid = np.ones((batch_size, 1))\n",
    "        fake = np.zeros((batch_size, 1))\n",
    "\n",
    "        d_loss_real = discriminator.train_on_batch(real_imgs, valid)\n",
    "        d_loss_fake = discriminator.train_on_batch(fake_imgs, fake)\n",
    "        d_loss = 0.5 * np.add(d_loss_real, d_loss_fake)\n",
    "\n",
    "        # ---------------------\n",
    "        #  Train Generator\n",
    "        # ---------------------\n",
    "        noise = np.random.normal(0, 1, (batch_size, latent_dim))\n",
    "        g_loss = combined.train_on_batch(noise, valid)\n",
    "\n",
    "        d_loss_epoch += d_loss[0]\n",
    "        g_loss_epoch += g_loss\n",
    "\n",
    "    d_loss_epoch /= num_batches\n",
    "    g_loss_epoch /= num_batches\n",
    "\n",
    "    print(f\"Epoch {epoch}/{epochs} [D loss: {d_loss_epoch:.4f}] [G loss: {g_loss_epoch:.4f}]\")\n",
    "    wandb.log({\"epoch\": epoch, \"d_loss\": d_loss_epoch, \"g_loss\": g_loss_epoch})\n",
    "\n",
    "    if epoch == 1 or epoch % 5 == 0:\n",
    "        fig = get_generated_images_figure(generator, epoch)\n",
    "        wandb.log({\"generated_images\": wandb.Image(fig, caption=f\"Epoch {epoch}\")})\n",
    "        plt.close(fig)\n"
   ],
   "id": "84adfb5c0780b0b7",
   "outputs": [
    {
     "ename": "NameError",
     "evalue": "name 'epochs' is not defined",
     "output_type": "error",
     "traceback": [
      "\u001B[1;31m---------------------------------------------------------------------------\u001B[0m",
      "\u001B[1;31mNameError\u001B[0m                                 Traceback (most recent call last)",
      "Cell \u001B[1;32mIn[1], line 1\u001B[0m\n\u001B[1;32m----> 1\u001B[0m \u001B[38;5;28;01mfor\u001B[39;00m epoch \u001B[38;5;129;01min\u001B[39;00m \u001B[38;5;28mrange\u001B[39m(\u001B[38;5;241m1\u001B[39m, \u001B[43mepochs\u001B[49m \u001B[38;5;241m+\u001B[39m \u001B[38;5;241m1\u001B[39m):\n\u001B[0;32m      2\u001B[0m     d_loss_epoch \u001B[38;5;241m=\u001B[39m \u001B[38;5;241m0.0\u001B[39m\n\u001B[0;32m      3\u001B[0m     g_loss_epoch \u001B[38;5;241m=\u001B[39m \u001B[38;5;241m0.0\u001B[39m\n",
      "\u001B[1;31mNameError\u001B[0m: name 'epochs' is not defined"
     ]
    }
   ],
   "execution_count": 1
  }
 ],
 "metadata": {
  "kernelspec": {
   "display_name": "Python 3",
   "language": "python",
   "name": "python3"
  },
  "language_info": {
   "codemirror_mode": {
    "name": "ipython",
    "version": 2
   },
   "file_extension": ".py",
   "mimetype": "text/x-python",
   "name": "python",
   "nbconvert_exporter": "python",
   "pygments_lexer": "ipython2",
   "version": "2.7.6"
  }
 },
 "nbformat": 4,
 "nbformat_minor": 5
}
